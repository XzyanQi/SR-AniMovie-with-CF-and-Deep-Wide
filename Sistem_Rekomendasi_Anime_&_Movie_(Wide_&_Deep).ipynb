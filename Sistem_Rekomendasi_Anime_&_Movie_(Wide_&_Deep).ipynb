{
  "cells": [
    {
      "cell_type": "markdown",
      "metadata": {
        "id": "IGl39l6nx9uG"
      },
      "source": [
        "Import Library"
      ]
    },
    {
      "cell_type": "code",
      "execution_count": 1,
      "metadata": {
        "id": "_zqPjEGfOtwu"
      },
      "outputs": [],
      "source": [
        "import pandas as pd\n",
        "import numpy as np\n",
        "from sklearn.model_selection import train_test_split\n",
        "from sklearn.feature_extraction.text import CountVectorizer, TfidfVectorizer\n",
        "from sklearn.metrics.pairwise import cosine_similarity\n",
        "from sklearn.preprocessing import StandardScaler\n",
        "import tensorflow as tf\n",
        "from tensorflow.keras.models import Model\n",
        "from tensorflow.keras.layers import Input, Dense, concatenate, Dropout, BatchNormalization\n",
        "from tensorflow.keras.callbacks import EarlyStopping, ReduceLROnPlateau\n",
        "import matplotlib.pyplot as plt\n",
        "from scipy.sparse import hstack, csr_matrix\n",
        "import joblib\n",
        "import warnings\n",
        "warnings.filterwarnings('ignore')"
      ]
    },
    {
      "cell_type": "markdown",
      "source": [
        "### Dataset"
      ],
      "metadata": {
        "id": "KsNm9mEwX9_V"
      }
    },
    {
      "cell_type": "code",
      "source": [
        "df = pd.read_csv('dataset_gabungan_fa.csv')"
      ],
      "metadata": {
        "id": "4OS-vRQaYdk5"
      },
      "execution_count": 2,
      "outputs": []
    },
    {
      "cell_type": "code",
      "source": [
        "print(\"Data Info:\")\n",
        "print(df.head())\n",
        "print(f\"\\nBentuk data: {df.shape}\")\n",
        "print(f\"Kolom yang tersedia: {df.columns.tolist()}\")"
      ],
      "metadata": {
        "colab": {
          "base_uri": "https://localhost:8080/"
        },
        "id": "GBDMu_gWYQ6A",
        "outputId": "5499f844-eabe-49de-f2f0-00484b5c31a2"
      },
      "execution_count": 3,
      "outputs": [
        {
          "output_type": "stream",
          "name": "stdout",
          "text": [
            "Data Info:\n",
            "   No.                Judul Tanggal_Rilis   Tipe  Rating  \\\n",
            "0    1  Karate Kid: Legends    2025-05-08  Movie      72   \n",
            "1    2      The Old Guard 2    2025-07-01  Movie      61   \n",
            "2    3            Ballerina    2025-06-04  Movie      74   \n",
            "3    4  Ice Road: Vengeance    2025-06-27  Movie      70   \n",
            "4    5       Heads of State    2025-07-02  Movie      69   \n",
            "\n",
            "                      Genre  Durasi  \\\n",
            "0  Action, Adventure, Drama  1h 34m   \n",
            "1           Action, Fantasy  1h 47m   \n",
            "2   Action, Thriller, Crime   2h 5m   \n",
            "3   Action, Thriller, Drama  1h 53m   \n",
            "4  Action, Thriller, Comedy  1h 53m   \n",
            "\n",
            "                                            Overview   Kreator_Sutradara  \n",
            "0  After a family tragedy, kung fu prodigy Li Fon...  Jonathan Entwistle  \n",
            "1  Andy and her team of immortal warriors fight w...    Victoria Mahoney  \n",
            "2  Taking place during the events of John Wick: C...         Len Wiseman  \n",
            "3  Big rig ice road driver Mike McCann travels to...  Jonathan Hensleigh  \n",
            "4  The UK Prime Minister and US President have a ...     Ilya Naishuller  \n",
            "\n",
            "Bentuk data: (4180, 9)\n",
            "Kolom yang tersedia: ['No.', 'Judul', 'Tanggal_Rilis', 'Tipe', 'Rating', 'Genre', 'Durasi', 'Overview', 'Kreator_Sutradara']\n"
          ]
        }
      ]
    },
    {
      "cell_type": "markdown",
      "source": [
        "Missing value"
      ],
      "metadata": {
        "id": "P1XJf2dibhTY"
      }
    },
    {
      "cell_type": "code",
      "source": [
        "# Identifikasi dan handling missing values\n",
        "print(\"\\nHandling missing value\")\n",
        "print(\"Missing values per kolom:\")\n",
        "print(df.isnull().sum())"
      ],
      "metadata": {
        "colab": {
          "base_uri": "https://localhost:8080/"
        },
        "id": "WKGnoPrZYUWg",
        "outputId": "08d62530-b28e-4a62-91d5-a2188b3d007f"
      },
      "execution_count": 4,
      "outputs": [
        {
          "output_type": "stream",
          "name": "stdout",
          "text": [
            "\n",
            "Handling missing value\n",
            "Missing values per kolom:\n",
            "No.                     0\n",
            "Judul                   0\n",
            "Tanggal_Rilis           3\n",
            "Tipe                    0\n",
            "Rating                  0\n",
            "Genre                  12\n",
            "Durasi                138\n",
            "Overview               65\n",
            "Kreator_Sutradara    1415\n",
            "dtype: int64\n"
          ]
        }
      ]
    },
    {
      "cell_type": "markdown",
      "source": [
        "Bersihin data"
      ],
      "metadata": {
        "id": "FophgsAebi1v"
      }
    },
    {
      "cell_type": "code",
      "source": [
        "print(\"Jumlah data kosong sebelum dibersihkan:\")\n",
        "print(df.isnull().sum())\n",
        "\n",
        "# Tipe Teks\n",
        "df['Genre'].fillna('Unknown', inplace=True)\n",
        "df['Overview'].fillna('No description available', inplace=True)\n",
        "df['Kreator_Sutradara'].fillna('Unknown', inplace=True)\n",
        "\n",
        "# Tipe Angka (Numerik)\n",
        "# fungsi konversi ke menit yang akurat sebelum normalisasi\n",
        "def convert_to_minutes(durasi_str):\n",
        "    if isinstance(durasi_str, str):\n",
        "        durasi_str = durasi_str.lower()\n",
        "        if 'h' in durasi_str and 'm' in durasi_str:\n",
        "            parts = durasi_str.split('h')\n",
        "            hours = int(parts[0]) if parts[0] else 0\n",
        "            minutes_part = parts[1].replace('m', '').strip()\n",
        "            minutes = int(minutes_part) if minutes_part else 0\n",
        "            return hours * 60 + minutes\n",
        "        elif 'h' in durasi_str:\n",
        "            return int(durasi_str.replace('h', '').strip()) * 60\n",
        "        elif 'm' in durasi_str:\n",
        "            # Handle \"Xm per episode\" and \"Xm\"\n",
        "            minutes_str = durasi_str.split('m')[0].strip()\n",
        "            return int(minutes_str)\n",
        "    # Jika sudah berupa angka (float/int) atau gagal konversi, kembalikan apa adanya atau 0\n",
        "    if isinstance(durasi_str, (int, float)):\n",
        "        return durasi_str\n",
        "    return 0\n",
        "\n",
        "df['Durasi'] = df['Durasi'].apply(convert_to_minutes)\n",
        "\n",
        "# Isi NaN yang mungkin masih ada dengan median\n",
        "df['Durasi'].fillna(df['Durasi'].median(), inplace=True)\n",
        "\n",
        "# Tipe Tanggal\n",
        "df.dropna(subset=['Tanggal_Rilis'], inplace=True)\n",
        "\n",
        "\n",
        "# Verifikasi ulang untuk memastikan semua sudah bersih\n",
        "print(\"\\nData kosong SETELAH dibersihkan:\")\n",
        "print(df.isnull().sum())"
      ],
      "metadata": {
        "colab": {
          "base_uri": "https://localhost:8080/"
        },
        "id": "3luw5PX6YXGA",
        "outputId": "778def1a-474c-4fe8-8600-5ded41d06514"
      },
      "execution_count": 5,
      "outputs": [
        {
          "output_type": "stream",
          "name": "stdout",
          "text": [
            "Jumlah data kosong sebelum dibersihkan:\n",
            "No.                     0\n",
            "Judul                   0\n",
            "Tanggal_Rilis           3\n",
            "Tipe                    0\n",
            "Rating                  0\n",
            "Genre                  12\n",
            "Durasi                138\n",
            "Overview               65\n",
            "Kreator_Sutradara    1415\n",
            "dtype: int64\n",
            "\n",
            "Data kosong SETELAH dibersihkan:\n",
            "No.                  0\n",
            "Judul                0\n",
            "Tanggal_Rilis        0\n",
            "Tipe                 0\n",
            "Rating               0\n",
            "Genre                0\n",
            "Durasi               0\n",
            "Overview             0\n",
            "Kreator_Sutradara    0\n",
            "dtype: int64\n"
          ]
        }
      ]
    },
    {
      "cell_type": "markdown",
      "source": [
        "Format Rating"
      ],
      "metadata": {
        "id": "cwtyDedJbq9X"
      }
    },
    {
      "cell_type": "code",
      "source": [
        "# Format Rating\n",
        "df['Rating'] = pd.to_numeric(df['Rating'], errors='coerce')\n",
        "df = df.dropna(subset=['Rating'])"
      ],
      "metadata": {
        "id": "0BNYn1YIYbmp"
      },
      "execution_count": 6,
      "outputs": []
    },
    {
      "cell_type": "markdown",
      "source": [
        "Normalisasi Rating"
      ],
      "metadata": {
        "id": "iMdr1UuVbx6g"
      }
    },
    {
      "cell_type": "code",
      "source": [
        "# Normalisasi Rating ke skala 0-10\n",
        "if df['Rating'].max() > 10:\n",
        "    df['Rating'] = df['Rating'] / 10.0\n",
        "\n",
        "print(f\"Data setelah dibersihkan: {df.shape}\")\n",
        "print(f\"Rating range: {df['Rating'].min()} - {df['Rating'].max()}\")"
      ],
      "metadata": {
        "colab": {
          "base_uri": "https://localhost:8080/"
        },
        "id": "JmOP1CIMbzIZ",
        "outputId": "1613d546-8703-40a2-caa2-7f379476ef19"
      },
      "execution_count": 7,
      "outputs": [
        {
          "output_type": "stream",
          "name": "stdout",
          "text": [
            "Data setelah dibersihkan: (4177, 9)\n",
            "Rating range: 0.0 - 10.0\n"
          ]
        }
      ]
    },
    {
      "cell_type": "markdown",
      "source": [
        "### Feature Engineering"
      ],
      "metadata": {
        "id": "Ei_rf84Bb7aZ"
      }
    },
    {
      "cell_type": "markdown",
      "source": [
        "Preprocessing TF-IDF"
      ],
      "metadata": {
        "id": "8ckTHEWvb-EB"
      }
    },
    {
      "cell_type": "code",
      "source": [
        "# Preprocessing Overview dengan TF-IDF\n",
        "print(\"Membuat TF-IDF matrix untuk Overview...\")\n",
        "tfidf = TfidfVectorizer(\n",
        "    stop_words='english',\n",
        "    max_features=3000,  # Dikurangi untuk efisiensi\n",
        "    min_df=2,\n",
        "    max_df=0.8,\n",
        "    ngram_range=(1, 2)\n",
        ")\n",
        "\n",
        "tfidf_matrix = tfidf.fit_transform(df['Overview'])\n",
        "print(f\"TF-IDF matrix shape: {tfidf_matrix.shape}\")"
      ],
      "metadata": {
        "colab": {
          "base_uri": "https://localhost:8080/"
        },
        "id": "9IbUY0clb_Ya",
        "outputId": "fa8b0c45-bfa4-4e09-8e8d-301f6c997b83"
      },
      "execution_count": 8,
      "outputs": [
        {
          "output_type": "stream",
          "name": "stdout",
          "text": [
            "Membuat TF-IDF matrix untuk Overview...\n",
            "TF-IDF matrix shape: (4177, 3000)\n"
          ]
        }
      ]
    },
    {
      "cell_type": "markdown",
      "source": [
        "Preprocessing Genre dengan CountVectorizer"
      ],
      "metadata": {
        "id": "qF07pJBRcN8c"
      }
    },
    {
      "cell_type": "code",
      "source": [
        "# Preprocessing Genre dengan CountVectorizer\n",
        "print(\"Membuat Genre matrix...\")\n",
        "def genre_tokenizer(text):\n",
        "    if not isinstance(text, str):\n",
        "        return []\n",
        "    # Bersihkan dan split genre\n",
        "    genres = [genre.strip().lower() for genre in text.split(',')]\n",
        "    return [genre for genre in genres if genre and genre != 'unknown']\n",
        "\n",
        "genre_vectorizer = CountVectorizer(\n",
        "    tokenizer=genre_tokenizer,\n",
        "    binary=True  # Binary encoding untuk genre\n",
        ")\n",
        "\n",
        "genre_matrix = genre_vectorizer.fit_transform(df['Genre'])\n",
        "print(f\"Genre matrix shape: {genre_matrix.shape}\")"
      ],
      "metadata": {
        "colab": {
          "base_uri": "https://localhost:8080/"
        },
        "id": "BSlCs4eTcIiL",
        "outputId": "732b0547-eb72-4c5d-d4de-12582a694d1d"
      },
      "execution_count": 9,
      "outputs": [
        {
          "output_type": "stream",
          "name": "stdout",
          "text": [
            "Membuat Genre matrix...\n",
            "Genre matrix shape: (4177, 24)\n"
          ]
        }
      ]
    },
    {
      "cell_type": "markdown",
      "source": [
        "Feature tambahan"
      ],
      "metadata": {
        "id": "tzbf3uzgcbNE"
      }
    },
    {
      "cell_type": "code",
      "source": [
        "# Feature tambahan durasi\n",
        "additional_features = []\n",
        "if 'Durasi' in df.columns:\n",
        "    # Normalisasi durasi\n",
        "    durasi_normalized = pd.to_numeric(df['Durasi'], errors='coerce').fillna(0)\n",
        "    durasi_normalized = (durasi_normalized - durasi_normalized.mean()) / durasi_normalized.std()\n",
        "    additional_features.append(durasi_normalized.values.reshape(-1, 1))\n",
        "\n",
        "# Fitur tambahan Tahun rilis\n",
        "if 'Tanggal_Rilis' in df.columns:\n",
        "    # Extract year dari tanggal\n",
        "    df['Year'] = pd.to_datetime(df['Tanggal_Rilis'], errors='coerce').dt.year\n",
        "    year_normalized = (df['Year'].fillna(df['Year'].median()) - df['Year'].min()) / (df['Year'].max() - df['Year'].min())\n",
        "    additional_features.append(year_normalized.values.reshape(-1, 1))"
      ],
      "metadata": {
        "id": "11U9wTNRccTU"
      },
      "execution_count": 10,
      "outputs": []
    },
    {
      "cell_type": "markdown",
      "source": [
        "Gabungin Feature"
      ],
      "metadata": {
        "id": "MoOuEIEUcnXv"
      }
    },
    {
      "cell_type": "code",
      "source": [
        "# Gabungin semua features\n",
        "print(\"Menggabungkan semua features...\")\n",
        "combined_features = hstack([genre_matrix, tfidf_matrix])\n",
        "\n",
        "if additional_features:\n",
        "    additional_matrix = np.hstack(additional_features)\n",
        "    combined_features = hstack([combined_features, csr_matrix(additional_matrix)])\n",
        "\n",
        "print(f\"Combined features shape: {combined_features.shape}\")"
      ],
      "metadata": {
        "colab": {
          "base_uri": "https://localhost:8080/"
        },
        "id": "0Zu2t9hrcodv",
        "outputId": "a3bd7f95-8899-448d-b140-4401349b1758"
      },
      "execution_count": 11,
      "outputs": [
        {
          "output_type": "stream",
          "name": "stdout",
          "text": [
            "Menggabungkan semua features...\n",
            "Combined features shape: (4177, 3026)\n"
          ]
        }
      ]
    },
    {
      "cell_type": "markdown",
      "source": [
        "### Persiapan data untuk Model"
      ],
      "metadata": {
        "id": "UreoYhomc1-A"
      }
    },
    {
      "cell_type": "code",
      "source": [
        "# Wide features (Genre + additional features)\n",
        "X_wide = genre_matrix.toarray()\n",
        "if additional_features:\n",
        "    X_wide = np.hstack([X_wide, additional_matrix])\n",
        "\n",
        "# Deep features (TF-IDF)\n",
        "X_deep = tfidf_matrix.toarray()\n",
        "\n",
        "# Target\n",
        "y = df['Rating'].astype(np.float32)\n",
        "\n",
        "print(f\"Wide features shape: {X_wide.shape}\")\n",
        "print(f\"Deep features shape: {X_deep.shape}\")\n",
        "print(f\"Target shape: {y.shape}\")"
      ],
      "metadata": {
        "colab": {
          "base_uri": "https://localhost:8080/"
        },
        "id": "cRZQI_Euc70A",
        "outputId": "21fe396a-59b4-4500-a696-4087ed5cfb00"
      },
      "execution_count": 12,
      "outputs": [
        {
          "output_type": "stream",
          "name": "stdout",
          "text": [
            "Wide features shape: (4177, 26)\n",
            "Deep features shape: (4177, 3000)\n",
            "Target shape: (4177,)\n"
          ]
        }
      ]
    },
    {
      "cell_type": "markdown",
      "source": [
        "Split data"
      ],
      "metadata": {
        "id": "gMOPrZ3rdDJJ"
      }
    },
    {
      "cell_type": "code",
      "source": [
        "# Split data\n",
        "X_wide_train, X_wide_test, X_deep_train, X_deep_test, y_train, y_test = train_test_split(\n",
        "    X_wide, X_deep, y,\n",
        "    test_size=0.2,\n",
        "    random_state=42,\n",
        "    stratify=pd.cut(y, bins=5)  # Stratified split berdasarkan rating\n",
        ")"
      ],
      "metadata": {
        "id": "LRum7im-c9RY"
      },
      "execution_count": 13,
      "outputs": []
    },
    {
      "cell_type": "code",
      "source": [
        "# Normalisasi features untuk Deep part\n",
        "scaler = StandardScaler()\n",
        "X_deep_train = scaler.fit_transform(X_deep_train)\n",
        "X_deep_test = scaler.transform(X_deep_test)\n",
        "\n",
        "print(f\"\\nData training - Wide: {X_wide_train.shape}, Deep: {X_deep_train.shape}\")\n",
        "print(f\"Data testing - Wide: {X_wide_test.shape}, Deep: {X_deep_test.shape}\")"
      ],
      "metadata": {
        "colab": {
          "base_uri": "https://localhost:8080/"
        },
        "id": "g1uNZQ1LdE9x",
        "outputId": "ddf4c713-8de6-445b-b024-4373268ffe79"
      },
      "execution_count": 14,
      "outputs": [
        {
          "output_type": "stream",
          "name": "stdout",
          "text": [
            "\n",
            "Data training - Wide: (3341, 26), Deep: (3341, 3000)\n",
            "Data testing - Wide: (836, 26), Deep: (836, 3000)\n"
          ]
        }
      ]
    },
    {
      "cell_type": "markdown",
      "source": [
        "### Membuat model Wide & Deep"
      ],
      "metadata": {
        "id": "wPCSxUUUdK3i"
      }
    },
    {
      "cell_type": "code",
      "source": [
        "# Input layers\n",
        "wide_input = Input(shape=(X_wide.shape[1],), name='wide_input')\n",
        "deep_input = Input(shape=(X_deep.shape[1],), name='deep_input')\n",
        "\n",
        "# Wide path (Linear model)\n",
        "wide_path = Dense(1, name='wide_path')(wide_input)\n",
        "\n",
        "# Deep path (Neural Network)\n",
        "deep_path = Dense(512, activation='relu', name='deep_1')(deep_input)\n",
        "deep_path = BatchNormalization()(deep_path)\n",
        "deep_path = Dropout(0.3)(deep_path)\n",
        "\n",
        "deep_path = Dense(256, activation='relu', name='deep_2')(deep_path)\n",
        "deep_path = BatchNormalization()(deep_path)\n",
        "deep_path = Dropout(0.2)(deep_path)\n",
        "\n",
        "deep_path = Dense(128, activation='relu', name='deep_3')(deep_path)\n",
        "deep_path = Dropout(0.1)(deep_path)\n",
        "\n",
        "deep_path = Dense(64, activation='relu', name='deep_4')(deep_path)\n",
        "\n",
        "# Combine Wide & Deep\n",
        "combined = concatenate([wide_path, deep_path], name='combined')\n",
        "\n",
        "# Output layer\n",
        "output = Dense(1, activation='linear', name='output')(combined)\n",
        "\n",
        "# Create model\n",
        "model = Model(inputs=[wide_input, deep_input], outputs=output)\n",
        "\n",
        "# Compile model\n",
        "model.compile(\n",
        "    optimizer=tf.keras.optimizers.Adam(learning_rate=0.001),\n",
        "    loss='mse',\n",
        "    metrics=['mae', 'mse']\n",
        ")\n",
        "\n",
        "print(\"Model architecture:\")\n",
        "model.summary()"
      ],
      "metadata": {
        "colab": {
          "base_uri": "https://localhost:8080/",
          "height": 674
        },
        "id": "w6R6-n5SdTgz",
        "outputId": "f54eb814-01e9-4adc-e600-cfc46314c5c9"
      },
      "execution_count": 15,
      "outputs": [
        {
          "output_type": "stream",
          "name": "stdout",
          "text": [
            "Model architecture:\n"
          ]
        },
        {
          "output_type": "display_data",
          "data": {
            "text/plain": [
              "\u001b[1mModel: \"functional\"\u001b[0m\n"
            ],
            "text/html": [
              "<pre style=\"white-space:pre;overflow-x:auto;line-height:normal;font-family:Menlo,'DejaVu Sans Mono',consolas,'Courier New',monospace\"><span style=\"font-weight: bold\">Model: \"functional\"</span>\n",
              "</pre>\n"
            ]
          },
          "metadata": {}
        },
        {
          "output_type": "display_data",
          "data": {
            "text/plain": [
              "┏━━━━━━━━━━━━━━━━━━━━━┳━━━━━━━━━━━━━━━━━━━┳━━━━━━━━━━━━┳━━━━━━━━━━━━━━━━━━━┓\n",
              "┃\u001b[1m \u001b[0m\u001b[1mLayer (type)       \u001b[0m\u001b[1m \u001b[0m┃\u001b[1m \u001b[0m\u001b[1mOutput Shape     \u001b[0m\u001b[1m \u001b[0m┃\u001b[1m \u001b[0m\u001b[1m   Param #\u001b[0m\u001b[1m \u001b[0m┃\u001b[1m \u001b[0m\u001b[1mConnected to     \u001b[0m\u001b[1m \u001b[0m┃\n",
              "┡━━━━━━━━━━━━━━━━━━━━━╇━━━━━━━━━━━━━━━━━━━╇━━━━━━━━━━━━╇━━━━━━━━━━━━━━━━━━━┩\n",
              "│ deep_input          │ (\u001b[38;5;45mNone\u001b[0m, \u001b[38;5;34m3000\u001b[0m)      │          \u001b[38;5;34m0\u001b[0m │ -                 │\n",
              "│ (\u001b[38;5;33mInputLayer\u001b[0m)        │                   │            │                   │\n",
              "├─────────────────────┼───────────────────┼────────────┼───────────────────┤\n",
              "│ deep_1 (\u001b[38;5;33mDense\u001b[0m)      │ (\u001b[38;5;45mNone\u001b[0m, \u001b[38;5;34m512\u001b[0m)       │  \u001b[38;5;34m1,536,512\u001b[0m │ deep_input[\u001b[38;5;34m0\u001b[0m][\u001b[38;5;34m0\u001b[0m]  │\n",
              "├─────────────────────┼───────────────────┼────────────┼───────────────────┤\n",
              "│ batch_normalization │ (\u001b[38;5;45mNone\u001b[0m, \u001b[38;5;34m512\u001b[0m)       │      \u001b[38;5;34m2,048\u001b[0m │ deep_1[\u001b[38;5;34m0\u001b[0m][\u001b[38;5;34m0\u001b[0m]      │\n",
              "│ (\u001b[38;5;33mBatchNormalizatio…\u001b[0m │                   │            │                   │\n",
              "├─────────────────────┼───────────────────┼────────────┼───────────────────┤\n",
              "│ dropout (\u001b[38;5;33mDropout\u001b[0m)   │ (\u001b[38;5;45mNone\u001b[0m, \u001b[38;5;34m512\u001b[0m)       │          \u001b[38;5;34m0\u001b[0m │ batch_normalizat… │\n",
              "├─────────────────────┼───────────────────┼────────────┼───────────────────┤\n",
              "│ deep_2 (\u001b[38;5;33mDense\u001b[0m)      │ (\u001b[38;5;45mNone\u001b[0m, \u001b[38;5;34m256\u001b[0m)       │    \u001b[38;5;34m131,328\u001b[0m │ dropout[\u001b[38;5;34m0\u001b[0m][\u001b[38;5;34m0\u001b[0m]     │\n",
              "├─────────────────────┼───────────────────┼────────────┼───────────────────┤\n",
              "│ batch_normalizatio… │ (\u001b[38;5;45mNone\u001b[0m, \u001b[38;5;34m256\u001b[0m)       │      \u001b[38;5;34m1,024\u001b[0m │ deep_2[\u001b[38;5;34m0\u001b[0m][\u001b[38;5;34m0\u001b[0m]      │\n",
              "│ (\u001b[38;5;33mBatchNormalizatio…\u001b[0m │                   │            │                   │\n",
              "├─────────────────────┼───────────────────┼────────────┼───────────────────┤\n",
              "│ dropout_1 (\u001b[38;5;33mDropout\u001b[0m) │ (\u001b[38;5;45mNone\u001b[0m, \u001b[38;5;34m256\u001b[0m)       │          \u001b[38;5;34m0\u001b[0m │ batch_normalizat… │\n",
              "├─────────────────────┼───────────────────┼────────────┼───────────────────┤\n",
              "│ deep_3 (\u001b[38;5;33mDense\u001b[0m)      │ (\u001b[38;5;45mNone\u001b[0m, \u001b[38;5;34m128\u001b[0m)       │     \u001b[38;5;34m32,896\u001b[0m │ dropout_1[\u001b[38;5;34m0\u001b[0m][\u001b[38;5;34m0\u001b[0m]   │\n",
              "├─────────────────────┼───────────────────┼────────────┼───────────────────┤\n",
              "│ wide_input          │ (\u001b[38;5;45mNone\u001b[0m, \u001b[38;5;34m26\u001b[0m)        │          \u001b[38;5;34m0\u001b[0m │ -                 │\n",
              "│ (\u001b[38;5;33mInputLayer\u001b[0m)        │                   │            │                   │\n",
              "├─────────────────────┼───────────────────┼────────────┼───────────────────┤\n",
              "│ dropout_2 (\u001b[38;5;33mDropout\u001b[0m) │ (\u001b[38;5;45mNone\u001b[0m, \u001b[38;5;34m128\u001b[0m)       │          \u001b[38;5;34m0\u001b[0m │ deep_3[\u001b[38;5;34m0\u001b[0m][\u001b[38;5;34m0\u001b[0m]      │\n",
              "├─────────────────────┼───────────────────┼────────────┼───────────────────┤\n",
              "│ wide_path (\u001b[38;5;33mDense\u001b[0m)   │ (\u001b[38;5;45mNone\u001b[0m, \u001b[38;5;34m1\u001b[0m)         │         \u001b[38;5;34m27\u001b[0m │ wide_input[\u001b[38;5;34m0\u001b[0m][\u001b[38;5;34m0\u001b[0m]  │\n",
              "├─────────────────────┼───────────────────┼────────────┼───────────────────┤\n",
              "│ deep_4 (\u001b[38;5;33mDense\u001b[0m)      │ (\u001b[38;5;45mNone\u001b[0m, \u001b[38;5;34m64\u001b[0m)        │      \u001b[38;5;34m8,256\u001b[0m │ dropout_2[\u001b[38;5;34m0\u001b[0m][\u001b[38;5;34m0\u001b[0m]   │\n",
              "├─────────────────────┼───────────────────┼────────────┼───────────────────┤\n",
              "│ combined            │ (\u001b[38;5;45mNone\u001b[0m, \u001b[38;5;34m65\u001b[0m)        │          \u001b[38;5;34m0\u001b[0m │ wide_path[\u001b[38;5;34m0\u001b[0m][\u001b[38;5;34m0\u001b[0m],  │\n",
              "│ (\u001b[38;5;33mConcatenate\u001b[0m)       │                   │            │ deep_4[\u001b[38;5;34m0\u001b[0m][\u001b[38;5;34m0\u001b[0m]      │\n",
              "├─────────────────────┼───────────────────┼────────────┼───────────────────┤\n",
              "│ output (\u001b[38;5;33mDense\u001b[0m)      │ (\u001b[38;5;45mNone\u001b[0m, \u001b[38;5;34m1\u001b[0m)         │         \u001b[38;5;34m66\u001b[0m │ combined[\u001b[38;5;34m0\u001b[0m][\u001b[38;5;34m0\u001b[0m]    │\n",
              "└─────────────────────┴───────────────────┴────────────┴───────────────────┘\n"
            ],
            "text/html": [
              "<pre style=\"white-space:pre;overflow-x:auto;line-height:normal;font-family:Menlo,'DejaVu Sans Mono',consolas,'Courier New',monospace\">┏━━━━━━━━━━━━━━━━━━━━━┳━━━━━━━━━━━━━━━━━━━┳━━━━━━━━━━━━┳━━━━━━━━━━━━━━━━━━━┓\n",
              "┃<span style=\"font-weight: bold\"> Layer (type)        </span>┃<span style=\"font-weight: bold\"> Output Shape      </span>┃<span style=\"font-weight: bold\">    Param # </span>┃<span style=\"font-weight: bold\"> Connected to      </span>┃\n",
              "┡━━━━━━━━━━━━━━━━━━━━━╇━━━━━━━━━━━━━━━━━━━╇━━━━━━━━━━━━╇━━━━━━━━━━━━━━━━━━━┩\n",
              "│ deep_input          │ (<span style=\"color: #00d7ff; text-decoration-color: #00d7ff\">None</span>, <span style=\"color: #00af00; text-decoration-color: #00af00\">3000</span>)      │          <span style=\"color: #00af00; text-decoration-color: #00af00\">0</span> │ -                 │\n",
              "│ (<span style=\"color: #0087ff; text-decoration-color: #0087ff\">InputLayer</span>)        │                   │            │                   │\n",
              "├─────────────────────┼───────────────────┼────────────┼───────────────────┤\n",
              "│ deep_1 (<span style=\"color: #0087ff; text-decoration-color: #0087ff\">Dense</span>)      │ (<span style=\"color: #00d7ff; text-decoration-color: #00d7ff\">None</span>, <span style=\"color: #00af00; text-decoration-color: #00af00\">512</span>)       │  <span style=\"color: #00af00; text-decoration-color: #00af00\">1,536,512</span> │ deep_input[<span style=\"color: #00af00; text-decoration-color: #00af00\">0</span>][<span style=\"color: #00af00; text-decoration-color: #00af00\">0</span>]  │\n",
              "├─────────────────────┼───────────────────┼────────────┼───────────────────┤\n",
              "│ batch_normalization │ (<span style=\"color: #00d7ff; text-decoration-color: #00d7ff\">None</span>, <span style=\"color: #00af00; text-decoration-color: #00af00\">512</span>)       │      <span style=\"color: #00af00; text-decoration-color: #00af00\">2,048</span> │ deep_1[<span style=\"color: #00af00; text-decoration-color: #00af00\">0</span>][<span style=\"color: #00af00; text-decoration-color: #00af00\">0</span>]      │\n",
              "│ (<span style=\"color: #0087ff; text-decoration-color: #0087ff\">BatchNormalizatio…</span> │                   │            │                   │\n",
              "├─────────────────────┼───────────────────┼────────────┼───────────────────┤\n",
              "│ dropout (<span style=\"color: #0087ff; text-decoration-color: #0087ff\">Dropout</span>)   │ (<span style=\"color: #00d7ff; text-decoration-color: #00d7ff\">None</span>, <span style=\"color: #00af00; text-decoration-color: #00af00\">512</span>)       │          <span style=\"color: #00af00; text-decoration-color: #00af00\">0</span> │ batch_normalizat… │\n",
              "├─────────────────────┼───────────────────┼────────────┼───────────────────┤\n",
              "│ deep_2 (<span style=\"color: #0087ff; text-decoration-color: #0087ff\">Dense</span>)      │ (<span style=\"color: #00d7ff; text-decoration-color: #00d7ff\">None</span>, <span style=\"color: #00af00; text-decoration-color: #00af00\">256</span>)       │    <span style=\"color: #00af00; text-decoration-color: #00af00\">131,328</span> │ dropout[<span style=\"color: #00af00; text-decoration-color: #00af00\">0</span>][<span style=\"color: #00af00; text-decoration-color: #00af00\">0</span>]     │\n",
              "├─────────────────────┼───────────────────┼────────────┼───────────────────┤\n",
              "│ batch_normalizatio… │ (<span style=\"color: #00d7ff; text-decoration-color: #00d7ff\">None</span>, <span style=\"color: #00af00; text-decoration-color: #00af00\">256</span>)       │      <span style=\"color: #00af00; text-decoration-color: #00af00\">1,024</span> │ deep_2[<span style=\"color: #00af00; text-decoration-color: #00af00\">0</span>][<span style=\"color: #00af00; text-decoration-color: #00af00\">0</span>]      │\n",
              "│ (<span style=\"color: #0087ff; text-decoration-color: #0087ff\">BatchNormalizatio…</span> │                   │            │                   │\n",
              "├─────────────────────┼───────────────────┼────────────┼───────────────────┤\n",
              "│ dropout_1 (<span style=\"color: #0087ff; text-decoration-color: #0087ff\">Dropout</span>) │ (<span style=\"color: #00d7ff; text-decoration-color: #00d7ff\">None</span>, <span style=\"color: #00af00; text-decoration-color: #00af00\">256</span>)       │          <span style=\"color: #00af00; text-decoration-color: #00af00\">0</span> │ batch_normalizat… │\n",
              "├─────────────────────┼───────────────────┼────────────┼───────────────────┤\n",
              "│ deep_3 (<span style=\"color: #0087ff; text-decoration-color: #0087ff\">Dense</span>)      │ (<span style=\"color: #00d7ff; text-decoration-color: #00d7ff\">None</span>, <span style=\"color: #00af00; text-decoration-color: #00af00\">128</span>)       │     <span style=\"color: #00af00; text-decoration-color: #00af00\">32,896</span> │ dropout_1[<span style=\"color: #00af00; text-decoration-color: #00af00\">0</span>][<span style=\"color: #00af00; text-decoration-color: #00af00\">0</span>]   │\n",
              "├─────────────────────┼───────────────────┼────────────┼───────────────────┤\n",
              "│ wide_input          │ (<span style=\"color: #00d7ff; text-decoration-color: #00d7ff\">None</span>, <span style=\"color: #00af00; text-decoration-color: #00af00\">26</span>)        │          <span style=\"color: #00af00; text-decoration-color: #00af00\">0</span> │ -                 │\n",
              "│ (<span style=\"color: #0087ff; text-decoration-color: #0087ff\">InputLayer</span>)        │                   │            │                   │\n",
              "├─────────────────────┼───────────────────┼────────────┼───────────────────┤\n",
              "│ dropout_2 (<span style=\"color: #0087ff; text-decoration-color: #0087ff\">Dropout</span>) │ (<span style=\"color: #00d7ff; text-decoration-color: #00d7ff\">None</span>, <span style=\"color: #00af00; text-decoration-color: #00af00\">128</span>)       │          <span style=\"color: #00af00; text-decoration-color: #00af00\">0</span> │ deep_3[<span style=\"color: #00af00; text-decoration-color: #00af00\">0</span>][<span style=\"color: #00af00; text-decoration-color: #00af00\">0</span>]      │\n",
              "├─────────────────────┼───────────────────┼────────────┼───────────────────┤\n",
              "│ wide_path (<span style=\"color: #0087ff; text-decoration-color: #0087ff\">Dense</span>)   │ (<span style=\"color: #00d7ff; text-decoration-color: #00d7ff\">None</span>, <span style=\"color: #00af00; text-decoration-color: #00af00\">1</span>)         │         <span style=\"color: #00af00; text-decoration-color: #00af00\">27</span> │ wide_input[<span style=\"color: #00af00; text-decoration-color: #00af00\">0</span>][<span style=\"color: #00af00; text-decoration-color: #00af00\">0</span>]  │\n",
              "├─────────────────────┼───────────────────┼────────────┼───────────────────┤\n",
              "│ deep_4 (<span style=\"color: #0087ff; text-decoration-color: #0087ff\">Dense</span>)      │ (<span style=\"color: #00d7ff; text-decoration-color: #00d7ff\">None</span>, <span style=\"color: #00af00; text-decoration-color: #00af00\">64</span>)        │      <span style=\"color: #00af00; text-decoration-color: #00af00\">8,256</span> │ dropout_2[<span style=\"color: #00af00; text-decoration-color: #00af00\">0</span>][<span style=\"color: #00af00; text-decoration-color: #00af00\">0</span>]   │\n",
              "├─────────────────────┼───────────────────┼────────────┼───────────────────┤\n",
              "│ combined            │ (<span style=\"color: #00d7ff; text-decoration-color: #00d7ff\">None</span>, <span style=\"color: #00af00; text-decoration-color: #00af00\">65</span>)        │          <span style=\"color: #00af00; text-decoration-color: #00af00\">0</span> │ wide_path[<span style=\"color: #00af00; text-decoration-color: #00af00\">0</span>][<span style=\"color: #00af00; text-decoration-color: #00af00\">0</span>],  │\n",
              "│ (<span style=\"color: #0087ff; text-decoration-color: #0087ff\">Concatenate</span>)       │                   │            │ deep_4[<span style=\"color: #00af00; text-decoration-color: #00af00\">0</span>][<span style=\"color: #00af00; text-decoration-color: #00af00\">0</span>]      │\n",
              "├─────────────────────┼───────────────────┼────────────┼───────────────────┤\n",
              "│ output (<span style=\"color: #0087ff; text-decoration-color: #0087ff\">Dense</span>)      │ (<span style=\"color: #00d7ff; text-decoration-color: #00d7ff\">None</span>, <span style=\"color: #00af00; text-decoration-color: #00af00\">1</span>)         │         <span style=\"color: #00af00; text-decoration-color: #00af00\">66</span> │ combined[<span style=\"color: #00af00; text-decoration-color: #00af00\">0</span>][<span style=\"color: #00af00; text-decoration-color: #00af00\">0</span>]    │\n",
              "└─────────────────────┴───────────────────┴────────────┴───────────────────┘\n",
              "</pre>\n"
            ]
          },
          "metadata": {}
        },
        {
          "output_type": "display_data",
          "data": {
            "text/plain": [
              "\u001b[1m Total params: \u001b[0m\u001b[38;5;34m1,712,157\u001b[0m (6.53 MB)\n"
            ],
            "text/html": [
              "<pre style=\"white-space:pre;overflow-x:auto;line-height:normal;font-family:Menlo,'DejaVu Sans Mono',consolas,'Courier New',monospace\"><span style=\"font-weight: bold\"> Total params: </span><span style=\"color: #00af00; text-decoration-color: #00af00\">1,712,157</span> (6.53 MB)\n",
              "</pre>\n"
            ]
          },
          "metadata": {}
        },
        {
          "output_type": "display_data",
          "data": {
            "text/plain": [
              "\u001b[1m Trainable params: \u001b[0m\u001b[38;5;34m1,710,621\u001b[0m (6.53 MB)\n"
            ],
            "text/html": [
              "<pre style=\"white-space:pre;overflow-x:auto;line-height:normal;font-family:Menlo,'DejaVu Sans Mono',consolas,'Courier New',monospace\"><span style=\"font-weight: bold\"> Trainable params: </span><span style=\"color: #00af00; text-decoration-color: #00af00\">1,710,621</span> (6.53 MB)\n",
              "</pre>\n"
            ]
          },
          "metadata": {}
        },
        {
          "output_type": "display_data",
          "data": {
            "text/plain": [
              "\u001b[1m Non-trainable params: \u001b[0m\u001b[38;5;34m1,536\u001b[0m (6.00 KB)\n"
            ],
            "text/html": [
              "<pre style=\"white-space:pre;overflow-x:auto;line-height:normal;font-family:Menlo,'DejaVu Sans Mono',consolas,'Courier New',monospace\"><span style=\"font-weight: bold\"> Non-trainable params: </span><span style=\"color: #00af00; text-decoration-color: #00af00\">1,536</span> (6.00 KB)\n",
              "</pre>\n"
            ]
          },
          "metadata": {}
        }
      ]
    },
    {
      "cell_type": "markdown",
      "source": [
        "### Training Model"
      ],
      "metadata": {
        "id": "NP5G9rlrddyk"
      }
    },
    {
      "cell_type": "code",
      "source": [
        "# Callbacks untuk training yang lebih baik\n",
        "callbacks = [\n",
        "    EarlyStopping(\n",
        "        monitor='val_loss',\n",
        "        patience=10,\n",
        "        restore_best_weights=True,\n",
        "        verbose=1\n",
        "    ),\n",
        "    ReduceLROnPlateau(\n",
        "        monitor='val_loss',\n",
        "        factor=0.5,\n",
        "        patience=5,\n",
        "        min_lr=0.00001,\n",
        "        verbose=1\n",
        "    )\n",
        "]"
      ],
      "metadata": {
        "id": "MgCp2TS_dgV0"
      },
      "execution_count": 16,
      "outputs": []
    },
    {
      "cell_type": "code",
      "source": [
        "# Training\n",
        "history = model.fit(\n",
        "    x=[X_wide_train, X_deep_train],\n",
        "    y=y_train,\n",
        "    batch_size=64,\n",
        "    epochs=100,\n",
        "    validation_data=([X_wide_test, X_deep_test], y_test),\n",
        "    callbacks=callbacks,\n",
        "    verbose=1\n",
        ")\n",
        "\n",
        "print(\"\\nTraining selesai!\")"
      ],
      "metadata": {
        "colab": {
          "base_uri": "https://localhost:8080/"
        },
        "id": "GKza3xU5dlml",
        "outputId": "81a429dc-1485-497b-9144-5bbd6fd61b89"
      },
      "execution_count": 17,
      "outputs": [
        {
          "output_type": "stream",
          "name": "stdout",
          "text": [
            "Epoch 1/100\n",
            "\u001b[1m53/53\u001b[0m \u001b[32m━━━━━━━━━━━━━━━━━━━━\u001b[0m\u001b[37m\u001b[0m \u001b[1m6s\u001b[0m 53ms/step - loss: 17.5710 - mae: 3.4750 - mse: 17.5710 - val_loss: 12.9345 - val_mae: 3.3930 - val_mse: 12.9345 - learning_rate: 0.0010\n",
            "Epoch 2/100\n",
            "\u001b[1m53/53\u001b[0m \u001b[32m━━━━━━━━━━━━━━━━━━━━\u001b[0m\u001b[37m\u001b[0m \u001b[1m4s\u001b[0m 32ms/step - loss: 2.7330 - mae: 1.1936 - mse: 2.7330 - val_loss: 10.9146 - val_mae: 3.0907 - val_mse: 10.9146 - learning_rate: 0.0010\n",
            "Epoch 3/100\n",
            "\u001b[1m53/53\u001b[0m \u001b[32m━━━━━━━━━━━━━━━━━━━━\u001b[0m\u001b[37m\u001b[0m \u001b[1m2s\u001b[0m 32ms/step - loss: 2.0593 - mae: 1.0452 - mse: 2.0593 - val_loss: 7.8667 - val_mae: 2.5481 - val_mse: 7.8667 - learning_rate: 0.0010\n",
            "Epoch 4/100\n",
            "\u001b[1m53/53\u001b[0m \u001b[32m━━━━━━━━━━━━━━━━━━━━\u001b[0m\u001b[37m\u001b[0m \u001b[1m2s\u001b[0m 33ms/step - loss: 1.7686 - mae: 0.9700 - mse: 1.7686 - val_loss: 5.8559 - val_mae: 2.1167 - val_mse: 5.8559 - learning_rate: 0.0010\n",
            "Epoch 5/100\n",
            "\u001b[1m53/53\u001b[0m \u001b[32m━━━━━━━━━━━━━━━━━━━━\u001b[0m\u001b[37m\u001b[0m \u001b[1m2s\u001b[0m 32ms/step - loss: 1.5640 - mae: 0.9053 - mse: 1.5640 - val_loss: 4.8315 - val_mae: 1.8343 - val_mse: 4.8315 - learning_rate: 0.0010\n",
            "Epoch 6/100\n",
            "\u001b[1m53/53\u001b[0m \u001b[32m━━━━━━━━━━━━━━━━━━━━\u001b[0m\u001b[37m\u001b[0m \u001b[1m2s\u001b[0m 44ms/step - loss: 1.5135 - mae: 0.8999 - mse: 1.5135 - val_loss: 3.9851 - val_mae: 1.6108 - val_mse: 3.9851 - learning_rate: 0.0010\n",
            "Epoch 7/100\n",
            "\u001b[1m53/53\u001b[0m \u001b[32m━━━━━━━━━━━━━━━━━━━━\u001b[0m\u001b[37m\u001b[0m \u001b[1m2s\u001b[0m 39ms/step - loss: 1.3045 - mae: 0.8450 - mse: 1.3045 - val_loss: 3.5954 - val_mae: 1.4767 - val_mse: 3.5954 - learning_rate: 0.0010\n",
            "Epoch 8/100\n",
            "\u001b[1m53/53\u001b[0m \u001b[32m━━━━━━━━━━━━━━━━━━━━\u001b[0m\u001b[37m\u001b[0m \u001b[1m2s\u001b[0m 31ms/step - loss: 1.3054 - mae: 0.8397 - mse: 1.3054 - val_loss: 3.3898 - val_mae: 1.4113 - val_mse: 3.3898 - learning_rate: 0.0010\n",
            "Epoch 9/100\n",
            "\u001b[1m53/53\u001b[0m \u001b[32m━━━━━━━━━━━━━━━━━━━━\u001b[0m\u001b[37m\u001b[0m \u001b[1m2s\u001b[0m 33ms/step - loss: 1.1626 - mae: 0.7929 - mse: 1.1626 - val_loss: 3.4233 - val_mae: 1.4415 - val_mse: 3.4233 - learning_rate: 0.0010\n",
            "Epoch 10/100\n",
            "\u001b[1m53/53\u001b[0m \u001b[32m━━━━━━━━━━━━━━━━━━━━\u001b[0m\u001b[37m\u001b[0m \u001b[1m2s\u001b[0m 31ms/step - loss: 1.1493 - mae: 0.7598 - mse: 1.1493 - val_loss: 3.1773 - val_mae: 1.3246 - val_mse: 3.1773 - learning_rate: 0.0010\n",
            "Epoch 11/100\n",
            "\u001b[1m53/53\u001b[0m \u001b[32m━━━━━━━━━━━━━━━━━━━━\u001b[0m\u001b[37m\u001b[0m \u001b[1m3s\u001b[0m 32ms/step - loss: 1.0946 - mae: 0.7525 - mse: 1.0946 - val_loss: 3.1151 - val_mae: 1.3234 - val_mse: 3.1151 - learning_rate: 0.0010\n",
            "Epoch 12/100\n",
            "\u001b[1m53/53\u001b[0m \u001b[32m━━━━━━━━━━━━━━━━━━━━\u001b[0m\u001b[37m\u001b[0m \u001b[1m3s\u001b[0m 48ms/step - loss: 1.0030 - mae: 0.7238 - mse: 1.0030 - val_loss: 3.1146 - val_mae: 1.3207 - val_mse: 3.1146 - learning_rate: 0.0010\n",
            "Epoch 13/100\n",
            "\u001b[1m53/53\u001b[0m \u001b[32m━━━━━━━━━━━━━━━━━━━━\u001b[0m\u001b[37m\u001b[0m \u001b[1m2s\u001b[0m 32ms/step - loss: 0.8846 - mae: 0.6937 - mse: 0.8846 - val_loss: 3.0151 - val_mae: 1.2871 - val_mse: 3.0151 - learning_rate: 0.0010\n",
            "Epoch 14/100\n",
            "\u001b[1m53/53\u001b[0m \u001b[32m━━━━━━━━━━━━━━━━━━━━\u001b[0m\u001b[37m\u001b[0m \u001b[1m3s\u001b[0m 33ms/step - loss: 0.7939 - mae: 0.6519 - mse: 0.7939 - val_loss: 2.9607 - val_mae: 1.2135 - val_mse: 2.9607 - learning_rate: 0.0010\n",
            "Epoch 15/100\n",
            "\u001b[1m53/53\u001b[0m \u001b[32m━━━━━━━━━━━━━━━━━━━━\u001b[0m\u001b[37m\u001b[0m \u001b[1m2s\u001b[0m 32ms/step - loss: 0.9430 - mae: 0.6870 - mse: 0.9430 - val_loss: 3.2294 - val_mae: 1.3565 - val_mse: 3.2294 - learning_rate: 0.0010\n",
            "Epoch 16/100\n",
            "\u001b[1m53/53\u001b[0m \u001b[32m━━━━━━━━━━━━━━━━━━━━\u001b[0m\u001b[37m\u001b[0m \u001b[1m2s\u001b[0m 32ms/step - loss: 0.7025 - mae: 0.6159 - mse: 0.7025 - val_loss: 2.9461 - val_mae: 1.2290 - val_mse: 2.9461 - learning_rate: 0.0010\n",
            "Epoch 17/100\n",
            "\u001b[1m53/53\u001b[0m \u001b[32m━━━━━━━━━━━━━━━━━━━━\u001b[0m\u001b[37m\u001b[0m \u001b[1m2s\u001b[0m 31ms/step - loss: 0.7999 - mae: 0.6311 - mse: 0.7999 - val_loss: 2.9643 - val_mae: 1.2766 - val_mse: 2.9643 - learning_rate: 0.0010\n",
            "Epoch 18/100\n",
            "\u001b[1m53/53\u001b[0m \u001b[32m━━━━━━━━━━━━━━━━━━━━\u001b[0m\u001b[37m\u001b[0m \u001b[1m2s\u001b[0m 41ms/step - loss: 0.7018 - mae: 0.6130 - mse: 0.7018 - val_loss: 2.9160 - val_mae: 1.2543 - val_mse: 2.9160 - learning_rate: 0.0010\n",
            "Epoch 19/100\n",
            "\u001b[1m53/53\u001b[0m \u001b[32m━━━━━━━━━━━━━━━━━━━━\u001b[0m\u001b[37m\u001b[0m \u001b[1m2s\u001b[0m 38ms/step - loss: 0.6917 - mae: 0.5914 - mse: 0.6917 - val_loss: 2.8792 - val_mae: 1.2391 - val_mse: 2.8792 - learning_rate: 0.0010\n",
            "Epoch 20/100\n",
            "\u001b[1m53/53\u001b[0m \u001b[32m━━━━━━━━━━━━━━━━━━━━\u001b[0m\u001b[37m\u001b[0m \u001b[1m2s\u001b[0m 32ms/step - loss: 0.7529 - mae: 0.5943 - mse: 0.7529 - val_loss: 2.8548 - val_mae: 1.2043 - val_mse: 2.8548 - learning_rate: 0.0010\n",
            "Epoch 21/100\n",
            "\u001b[1m53/53\u001b[0m \u001b[32m━━━━━━━━━━━━━━━━━━━━\u001b[0m\u001b[37m\u001b[0m \u001b[1m2s\u001b[0m 32ms/step - loss: 0.6979 - mae: 0.5936 - mse: 0.6979 - val_loss: 2.9311 - val_mae: 1.2620 - val_mse: 2.9311 - learning_rate: 0.0010\n",
            "Epoch 22/100\n",
            "\u001b[1m53/53\u001b[0m \u001b[32m━━━━━━━━━━━━━━━━━━━━\u001b[0m\u001b[37m\u001b[0m \u001b[1m3s\u001b[0m 32ms/step - loss: 0.6176 - mae: 0.5663 - mse: 0.6176 - val_loss: 2.7184 - val_mae: 1.1865 - val_mse: 2.7184 - learning_rate: 0.0010\n",
            "Epoch 23/100\n",
            "\u001b[1m53/53\u001b[0m \u001b[32m━━━━━━━━━━━━━━━━━━━━\u001b[0m\u001b[37m\u001b[0m \u001b[1m2s\u001b[0m 32ms/step - loss: 0.6869 - mae: 0.5650 - mse: 0.6869 - val_loss: 2.6013 - val_mae: 1.1266 - val_mse: 2.6013 - learning_rate: 0.0010\n",
            "Epoch 24/100\n",
            "\u001b[1m53/53\u001b[0m \u001b[32m━━━━━━━━━━━━━━━━━━━━\u001b[0m\u001b[37m\u001b[0m \u001b[1m2s\u001b[0m 40ms/step - loss: 0.6003 - mae: 0.5501 - mse: 0.6003 - val_loss: 2.8119 - val_mae: 1.2253 - val_mse: 2.8119 - learning_rate: 0.0010\n",
            "Epoch 25/100\n",
            "\u001b[1m53/53\u001b[0m \u001b[32m━━━━━━━━━━━━━━━━━━━━\u001b[0m\u001b[37m\u001b[0m \u001b[1m2s\u001b[0m 42ms/step - loss: 0.6320 - mae: 0.5349 - mse: 0.6320 - val_loss: 2.7244 - val_mae: 1.1943 - val_mse: 2.7244 - learning_rate: 0.0010\n",
            "Epoch 26/100\n",
            "\u001b[1m53/53\u001b[0m \u001b[32m━━━━━━━━━━━━━━━━━━━━\u001b[0m\u001b[37m\u001b[0m \u001b[1m2s\u001b[0m 31ms/step - loss: 0.5878 - mae: 0.5284 - mse: 0.5878 - val_loss: 2.6411 - val_mae: 1.1664 - val_mse: 2.6411 - learning_rate: 0.0010\n",
            "Epoch 27/100\n",
            "\u001b[1m53/53\u001b[0m \u001b[32m━━━━━━━━━━━━━━━━━━━━\u001b[0m\u001b[37m\u001b[0m \u001b[1m3s\u001b[0m 32ms/step - loss: 0.6364 - mae: 0.5385 - mse: 0.6364 - val_loss: 2.5340 - val_mae: 1.1050 - val_mse: 2.5340 - learning_rate: 0.0010\n",
            "Epoch 28/100\n",
            "\u001b[1m53/53\u001b[0m \u001b[32m━━━━━━━━━━━━━━━━━━━━\u001b[0m\u001b[37m\u001b[0m \u001b[1m3s\u001b[0m 32ms/step - loss: 0.5689 - mae: 0.5291 - mse: 0.5689 - val_loss: 2.8374 - val_mae: 1.2295 - val_mse: 2.8374 - learning_rate: 0.0010\n",
            "Epoch 29/100\n",
            "\u001b[1m53/53\u001b[0m \u001b[32m━━━━━━━━━━━━━━━━━━━━\u001b[0m\u001b[37m\u001b[0m \u001b[1m3s\u001b[0m 36ms/step - loss: 0.6227 - mae: 0.5269 - mse: 0.6227 - val_loss: 2.8067 - val_mae: 1.2302 - val_mse: 2.8067 - learning_rate: 0.0010\n",
            "Epoch 30/100\n",
            "\u001b[1m53/53\u001b[0m \u001b[32m━━━━━━━━━━━━━━━━━━━━\u001b[0m\u001b[37m\u001b[0m \u001b[1m3s\u001b[0m 41ms/step - loss: 0.4772 - mae: 0.4918 - mse: 0.4772 - val_loss: 2.6812 - val_mae: 1.1733 - val_mse: 2.6812 - learning_rate: 0.0010\n",
            "Epoch 31/100\n",
            "\u001b[1m53/53\u001b[0m \u001b[32m━━━━━━━━━━━━━━━━━━━━\u001b[0m\u001b[37m\u001b[0m \u001b[1m2s\u001b[0m 32ms/step - loss: 0.5136 - mae: 0.5068 - mse: 0.5136 - val_loss: 2.9115 - val_mae: 1.2842 - val_mse: 2.9115 - learning_rate: 0.0010\n",
            "Epoch 32/100\n",
            "\u001b[1m51/53\u001b[0m \u001b[32m━━━━━━━━━━━━━━━━━━━\u001b[0m\u001b[37m━\u001b[0m \u001b[1m0s\u001b[0m 28ms/step - loss: 0.5375 - mae: 0.5264 - mse: 0.5375\n",
            "Epoch 32: ReduceLROnPlateau reducing learning rate to 0.0005000000237487257.\n",
            "\u001b[1m53/53\u001b[0m \u001b[32m━━━━━━━━━━━━━━━━━━━━\u001b[0m\u001b[37m\u001b[0m \u001b[1m3s\u001b[0m 32ms/step - loss: 0.5396 - mae: 0.5260 - mse: 0.5396 - val_loss: 2.5577 - val_mae: 1.1139 - val_mse: 2.5577 - learning_rate: 0.0010\n",
            "Epoch 33/100\n",
            "\u001b[1m53/53\u001b[0m \u001b[32m━━━━━━━━━━━━━━━━━━━━\u001b[0m\u001b[37m\u001b[0m \u001b[1m2s\u001b[0m 32ms/step - loss: 0.4770 - mae: 0.4766 - mse: 0.4770 - val_loss: 2.4953 - val_mae: 1.0899 - val_mse: 2.4953 - learning_rate: 5.0000e-04\n",
            "Epoch 34/100\n",
            "\u001b[1m53/53\u001b[0m \u001b[32m━━━━━━━━━━━━━━━━━━━━\u001b[0m\u001b[37m\u001b[0m \u001b[1m2s\u001b[0m 31ms/step - loss: 0.5397 - mae: 0.4827 - mse: 0.5397 - val_loss: 2.5593 - val_mae: 1.1200 - val_mse: 2.5593 - learning_rate: 5.0000e-04\n",
            "Epoch 35/100\n",
            "\u001b[1m53/53\u001b[0m \u001b[32m━━━━━━━━━━━━━━━━━━━━\u001b[0m\u001b[37m\u001b[0m \u001b[1m4s\u001b[0m 53ms/step - loss: 0.4925 - mae: 0.4558 - mse: 0.4925 - val_loss: 2.4935 - val_mae: 1.1031 - val_mse: 2.4935 - learning_rate: 5.0000e-04\n",
            "Epoch 36/100\n",
            "\u001b[1m53/53\u001b[0m \u001b[32m━━━━━━━━━━━━━━━━━━━━\u001b[0m\u001b[37m\u001b[0m \u001b[1m2s\u001b[0m 39ms/step - loss: 0.5529 - mae: 0.4756 - mse: 0.5529 - val_loss: 2.5945 - val_mae: 1.1501 - val_mse: 2.5945 - learning_rate: 5.0000e-04\n",
            "Epoch 37/100\n",
            "\u001b[1m53/53\u001b[0m \u001b[32m━━━━━━━━━━━━━━━━━━━━\u001b[0m\u001b[37m\u001b[0m \u001b[1m2s\u001b[0m 32ms/step - loss: 0.4830 - mae: 0.4697 - mse: 0.4830 - val_loss: 2.4775 - val_mae: 1.0774 - val_mse: 2.4775 - learning_rate: 5.0000e-04\n",
            "Epoch 38/100\n",
            "\u001b[1m53/53\u001b[0m \u001b[32m━━━━━━━━━━━━━━━━━━━━\u001b[0m\u001b[37m\u001b[0m \u001b[1m3s\u001b[0m 32ms/step - loss: 0.5198 - mae: 0.4740 - mse: 0.5198 - val_loss: 2.5277 - val_mae: 1.1188 - val_mse: 2.5277 - learning_rate: 5.0000e-04\n",
            "Epoch 39/100\n",
            "\u001b[1m53/53\u001b[0m \u001b[32m━━━━━━━━━━━━━━━━━━━━\u001b[0m\u001b[37m\u001b[0m \u001b[1m3s\u001b[0m 32ms/step - loss: 0.4637 - mae: 0.4447 - mse: 0.4637 - val_loss: 2.6275 - val_mae: 1.1400 - val_mse: 2.6275 - learning_rate: 5.0000e-04\n",
            "Epoch 40/100\n",
            "\u001b[1m53/53\u001b[0m \u001b[32m━━━━━━━━━━━━━━━━━━━━\u001b[0m\u001b[37m\u001b[0m \u001b[1m2s\u001b[0m 32ms/step - loss: 0.4296 - mae: 0.4268 - mse: 0.4296 - val_loss: 2.6302 - val_mae: 1.1492 - val_mse: 2.6302 - learning_rate: 5.0000e-04\n",
            "Epoch 41/100\n",
            "\u001b[1m53/53\u001b[0m \u001b[32m━━━━━━━━━━━━━━━━━━━━\u001b[0m\u001b[37m\u001b[0m \u001b[1m2s\u001b[0m 42ms/step - loss: 0.4974 - mae: 0.4505 - mse: 0.4974 - val_loss: 2.5084 - val_mae: 1.0890 - val_mse: 2.5084 - learning_rate: 5.0000e-04\n",
            "Epoch 42/100\n",
            "\u001b[1m51/53\u001b[0m \u001b[32m━━━━━━━━━━━━━━━━━━━\u001b[0m\u001b[37m━\u001b[0m \u001b[1m0s\u001b[0m 36ms/step - loss: 0.3953 - mae: 0.4158 - mse: 0.3953\n",
            "Epoch 42: ReduceLROnPlateau reducing learning rate to 0.0002500000118743628.\n",
            "\u001b[1m53/53\u001b[0m \u001b[32m━━━━━━━━━━━━━━━━━━━━\u001b[0m\u001b[37m\u001b[0m \u001b[1m2s\u001b[0m 39ms/step - loss: 0.3979 - mae: 0.4163 - mse: 0.3979 - val_loss: 2.5336 - val_mae: 1.1148 - val_mse: 2.5336 - learning_rate: 5.0000e-04\n",
            "Epoch 43/100\n",
            "\u001b[1m53/53\u001b[0m \u001b[32m━━━━━━━━━━━━━━━━━━━━\u001b[0m\u001b[37m\u001b[0m \u001b[1m2s\u001b[0m 44ms/step - loss: 0.3867 - mae: 0.4175 - mse: 0.3867 - val_loss: 2.5390 - val_mae: 1.1091 - val_mse: 2.5390 - learning_rate: 2.5000e-04\n",
            "Epoch 44/100\n",
            "\u001b[1m53/53\u001b[0m \u001b[32m━━━━━━━━━━━━━━━━━━━━\u001b[0m\u001b[37m\u001b[0m \u001b[1m2s\u001b[0m 32ms/step - loss: 0.4964 - mae: 0.4333 - mse: 0.4964 - val_loss: 2.5013 - val_mae: 1.0846 - val_mse: 2.5013 - learning_rate: 2.5000e-04\n",
            "Epoch 45/100\n",
            "\u001b[1m53/53\u001b[0m \u001b[32m━━━━━━━━━━━━━━━━━━━━\u001b[0m\u001b[37m\u001b[0m \u001b[1m3s\u001b[0m 32ms/step - loss: 0.3981 - mae: 0.4229 - mse: 0.3981 - val_loss: 2.4906 - val_mae: 1.0894 - val_mse: 2.4906 - learning_rate: 2.5000e-04\n",
            "Epoch 46/100\n",
            "\u001b[1m53/53\u001b[0m \u001b[32m━━━━━━━━━━━━━━━━━━━━\u001b[0m\u001b[37m\u001b[0m \u001b[1m2s\u001b[0m 32ms/step - loss: 0.4897 - mae: 0.4330 - mse: 0.4897 - val_loss: 2.5189 - val_mae: 1.1067 - val_mse: 2.5189 - learning_rate: 2.5000e-04\n",
            "Epoch 47/100\n",
            "\u001b[1m53/53\u001b[0m \u001b[32m━━━━━━━━━━━━━━━━━━━━\u001b[0m\u001b[37m\u001b[0m \u001b[1m0s\u001b[0m 35ms/step - loss: 0.3905 - mae: 0.4001 - mse: 0.3905\n",
            "Epoch 47: ReduceLROnPlateau reducing learning rate to 0.0001250000059371814.\n",
            "\u001b[1m53/53\u001b[0m \u001b[32m━━━━━━━━━━━━━━━━━━━━\u001b[0m\u001b[37m\u001b[0m \u001b[1m2s\u001b[0m 42ms/step - loss: 0.3909 - mae: 0.4002 - mse: 0.3909 - val_loss: 2.5410 - val_mae: 1.1179 - val_mse: 2.5410 - learning_rate: 2.5000e-04\n",
            "Epoch 47: early stopping\n",
            "Restoring model weights from the end of the best epoch: 37.\n",
            "\n",
            "Training selesai!\n"
          ]
        }
      ]
    },
    {
      "cell_type": "markdown",
      "source": [
        "### Evaluasi Model"
      ],
      "metadata": {
        "id": "2trC6e0CdzV3"
      }
    },
    {
      "cell_type": "code",
      "source": [
        "# Evaluasi pada test set\n",
        "test_loss, test_mae, test_mse = model.evaluate([X_wide_test, X_deep_test], y_test, verbose=0)\n",
        "print(f\"Test Loss (MSE): {test_loss:.4f}\")\n",
        "print(f\"Test MAE: {test_mae:.4f}\")\n",
        "print(f\"Test RMSE: {np.sqrt(test_mse):.4f}\")\n",
        "\n",
        "# Plot training history\n",
        "plt.figure(figsize=(15, 5))\n",
        "\n",
        "plt.subplot(1, 3, 1)\n",
        "plt.plot(history.history['loss'], label='Training Loss')\n",
        "plt.plot(history.history['val_loss'], label='Validation Loss')\n",
        "plt.title('Model Loss')\n",
        "plt.xlabel('Epoch')\n",
        "plt.ylabel('Loss')\n",
        "plt.legend()\n",
        "\n",
        "plt.subplot(1, 3, 2)\n",
        "plt.plot(history.history['mae'], label='Training MAE')\n",
        "plt.plot(history.history['val_mae'], label='Validation MAE')\n",
        "plt.title('Model MAE')\n",
        "plt.xlabel('Epoch')\n",
        "plt.ylabel('MAE')\n",
        "plt.legend()\n",
        "\n",
        "plt.subplot(1, 3, 3)\n",
        "\n",
        "# Prediksi vs Actual\n",
        "y_pred = model.predict([X_wide_test, X_deep_test])\n",
        "plt.scatter(y_test, y_pred, alpha=0.5)\n",
        "plt.plot([y_test.min(), y_test.max()], [y_test.min(), y_test.max()], 'r--', lw=2)\n",
        "plt.xlabel('Actual Rating')\n",
        "plt.ylabel('Predicted Rating')\n",
        "plt.title('Predicted vs Actual Ratings')\n",
        "\n",
        "plt.tight_layout()\n",
        "plt.show()"
      ],
      "metadata": {
        "colab": {
          "base_uri": "https://localhost:8080/",
          "height": 453
        },
        "id": "1w7hE_X3d0cn",
        "outputId": "e3ee03bc-8370-4edd-ea38-9f95894d7825"
      },
      "execution_count": 18,
      "outputs": [
        {
          "output_type": "stream",
          "name": "stdout",
          "text": [
            "Test Loss (MSE): 2.4775\n",
            "Test MAE: 1.0774\n",
            "Test RMSE: 1.5740\n",
            "\u001b[1m27/27\u001b[0m \u001b[32m━━━━━━━━━━━━━━━━━━━━\u001b[0m\u001b[37m\u001b[0m \u001b[1m1s\u001b[0m 15ms/step\n"
          ]
        },
        {
          "output_type": "display_data",
          "data": {
            "text/plain": [
              "<Figure size 1500x500 with 3 Axes>"
            ],
            "image/png": "[encoded data removed]"
          },
          "metadata": {}
        }
      ]
    },
    {
      "cell_type": "markdown",
      "source": [
        "Sistem Rekomendasi"
      ],
      "metadata": {
        "id": "DkDSGKUSd-7H"
      }
    },
    {
      "cell_type": "code",
      "source": [
        "def get_content_based_recommendations(title, top_n=10):\n",
        "    try:\n",
        "        # Cari index dari judul\n",
        "        idx = df[df['Judul'].str.contains(title, case=False, na=False)].index[0]\n",
        "\n",
        "        # Hitung cosine similarity\n",
        "        target_vector = combined_features[idx]\n",
        "        sim_scores = cosine_similarity(target_vector, combined_features)\n",
        "\n",
        "        # Urutkan berdasarkan similarity\n",
        "        sim_scores = list(enumerate(sim_scores[0]))\n",
        "        sim_scores = sorted(sim_scores, key=lambda x: x[1], reverse=True)\n",
        "\n",
        "        # Ambil top N (skip index 0)\n",
        "        top_indices = [i[0] for i in sim_scores[1:top_n+1]]\n",
        "\n",
        "        return df.iloc[top_indices]\n",
        "\n",
        "    except IndexError:\n",
        "        print(f\"Judul '{title}' tidak ditemukan dalam dataset.\")\n",
        "        return pd.DataFrame()"
      ],
      "metadata": {
        "id": "X9AskvBpeAUo"
      },
      "execution_count": 19,
      "outputs": []
    },
    {
      "cell_type": "code",
      "source": [
        "def get_model_based_recommendations(top_n=10):\n",
        "    # Prediksi untuk semua data\n",
        "    X_wide_all = X_wide\n",
        "    X_deep_all = scaler.transform(tfidf_matrix.toarray())\n",
        "\n",
        "    predictions = model.predict([X_wide_all, X_deep_all])\n",
        "\n",
        "    # Tambahkan prediksi ke dataframe\n",
        "    df_temp = df.copy()\n",
        "    df_temp['predicted_rating'] = predictions.flatten()\n",
        "\n",
        "    # Clip prediksi ke range valid\n",
        "    df_temp['predicted_rating'] = df_temp['predicted_rating'].clip(0, 10)\n",
        "\n",
        "    # Urutkan berdasarkan prediksi\n",
        "    recommendations = df_temp.sort_values('predicted_rating', ascending=False)\n",
        "\n",
        "    return recommendations.head(top_n)"
      ],
      "metadata": {
        "id": "ASUrfr2oeJZh"
      },
      "execution_count": 20,
      "outputs": []
    },
    {
      "cell_type": "code",
      "source": [
        "# Contoh penggunaan\n",
        "print(\"\\nContoh Rekomendasi\")\n",
        "\n",
        "# Content-based recommendation\n",
        "sample_title = \"Jurassic World Rebirth\"\n",
        "if sample_title in df['Judul'].values:\n",
        "    print(f\"\\nRekomendasi Content-Based untuk '{sample_title}':\")\n",
        "    content_recs = get_content_based_recommendations(sample_title)\n",
        "    print(content_recs[['Judul', 'Genre', 'Rating']].head())\n",
        "else:\n",
        "    print(f\"'{sample_title}' tidak ditemukan, mencoba judul lain...\")\n",
        "    # Ambil judul pertama yang ada\n",
        "    sample_title = df['Judul'].iloc[0]\n",
        "    print(f\"\\nRekomendasi Content-Based untuk '{sample_title}':\")\n",
        "    content_recs = get_content_based_recommendations(sample_title)\n",
        "    print(content_recs[['Judul', 'Genre', 'Rating']].head())\n",
        "\n",
        "# Model-based recommendation\n",
        "print(\"\\nTop 10 Rekomendasi Berdasarkan Prediksi Model:\")\n",
        "model_recs = get_model_based_recommendations()\n",
        "print(model_recs[['Judul', 'Genre', 'Rating', 'predicted_rating']].head(10))"
      ],
      "metadata": {
        "colab": {
          "base_uri": "https://localhost:8080/"
        },
        "id": "0iqc5r44orxw",
        "outputId": "158549d7-1d19-4e89-80d9-050251c1db53"
      },
      "execution_count": 21,
      "outputs": [
        {
          "output_type": "stream",
          "name": "stdout",
          "text": [
            "\n",
            "Contoh Rekomendasi\n",
            "\n",
            "Rekomendasi Content-Based untuk 'Jurassic World Rebirth':\n",
            "                            Judul                               Genre  Rating\n",
            "38        Jurassic World Dominion  Adventure, Action, Science Fiction     6.7\n",
            "833                      Eternals  Science Fiction, Action, Adventure     6.8\n",
            "851  Star Wars: The Force Awakens  Adventure, Action, Science Fiction     7.3\n",
            "460    Captain America: Civil War  Adventure, Action, Science Fiction     7.4\n",
            "362              The Tomorrow War  Action, Science Fiction, Adventure     7.5\n",
            "\n",
            "Top 10 Rekomendasi Berdasarkan Prediksi Model:\n",
            "\u001b[1m131/131\u001b[0m \u001b[32m━━━━━━━━━━━━━━━━━━━━\u001b[0m\u001b[37m\u001b[0m \u001b[1m1s\u001b[0m 5ms/step\n",
            "                                                  Judul  \\\n",
            "3095                         PuraOre! ~Pride of Orange~   \n",
            "2578                                         Cyborg 009   \n",
            "438     Jurassic World Rebirth: The Making of a New Era   \n",
            "2129  JUJUTSU KAISEN: Hidden Inventory / Premature D...   \n",
            "75                                                Night   \n",
            "2681                                   holo no graffiti   \n",
            "2644                     Energetic Explosion Ganbaruger   \n",
            "501                                            Sipsipan   \n",
            "3497                  Sengoku BASARA - End of Judgement   \n",
            "615                   Female Wars: The Man Who Moved In   \n",
            "\n",
            "                                                  Genre  Rating  \\\n",
            "3095                           Animation, Comedy, Drama    10.0   \n",
            "2578    Animation, Sci-Fi & Fantasy, Action & Adventure    10.0   \n",
            "438                                         Documentary    10.0   \n",
            "2129                         Animation, Action, Fantasy    10.0   \n",
            "75                                            Animation    10.0   \n",
            "2681                                  Animation, Comedy     9.8   \n",
            "2644  Animation, Action & Adventure, Sci-Fi & Fantas...    10.0   \n",
            "501                                      Drama, Romance    10.0   \n",
            "3497                                          Animation    10.0   \n",
            "615                                               Drama    10.0   \n",
            "\n",
            "      predicted_rating  \n",
            "3095              10.0  \n",
            "2578              10.0  \n",
            "438               10.0  \n",
            "2129              10.0  \n",
            "75                10.0  \n",
            "2681              10.0  \n",
            "2644              10.0  \n",
            "501               10.0  \n",
            "3497              10.0  \n",
            "615               10.0  \n"
          ]
        }
      ]
    },
    {
      "cell_type": "code",
      "source": [
        "# Simpan model\n",
        "model.save('wide_deep_recommendation_model.h5')\n",
        "\n",
        "# Simpan preprocessors\n",
        "joblib.dump(tfidf, 'tfidf_vectorizer.joblib')\n",
        "joblib.dump(genre_vectorizer, 'genre_vectorizer.joblib')\n",
        "joblib.dump(scaler, 'deep_scaler.joblib')\n",
        "\n",
        "# Simpan dataset final\n",
        "df.to_csv('processed_dataset.csv', index=False)\n",
        "\n",
        "print(\"Semua file berhasil disimpan!\")\n",
        "print(\"\\nFile yang disimpan:\")\n",
        "print(\"- wide_deep_recommendation_model.h5\")\n",
        "print(\"- tfidf_vectorizer.joblib\")\n",
        "print(\"- genre_vectorizer.joblib\")\n",
        "print(\"- deep_scaler.joblib\")\n",
        "print(\"- processed_dataset.csv\")"
      ],
      "metadata": {
        "colab": {
          "base_uri": "https://localhost:8080/"
        },
        "id": "EIcRGPj_eYmS",
        "outputId": "a94d644c-462d-4f96-ad18-c97b66859d3b"
      },
      "execution_count": 22,
      "outputs": [
        {
          "output_type": "stream",
          "name": "stderr",
          "text": [
            "WARNING:absl:You are saving your model as an HDF5 file via `model.save()` or `keras.saving.save_model(model)`. This file format is considered legacy. We recommend using instead the native Keras format, e.g. `model.save('my_model.keras')` or `keras.saving.save_model(model, 'my_model.keras')`. \n"
          ]
        },
        {
          "output_type": "stream",
          "name": "stdout",
          "text": [
            "Semua file berhasil disimpan!\n",
            "\n",
            "File yang disimpan:\n",
            "- wide_deep_recommendation_model.h5\n",
            "- tfidf_vectorizer.joblib\n",
            "- genre_vectorizer.joblib\n",
            "- deep_scaler.joblib\n",
            "- processed_dataset.csv\n"
          ]
        }
      ]
    }
  ],
  "metadata": {
    "colab": {
      "provenance": [],
      "gpuType": "T4"
    },
    "kernelspec": {
      "display_name": "Python 3",
      "name": "python3"
    },
    "language_info": {
      "name": "python"
    },
    "accelerator": "GPU"
  },
  "nbformat": 4,
  "nbformat_minor": 0
}